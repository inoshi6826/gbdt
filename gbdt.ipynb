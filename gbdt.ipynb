{
  "nbformat": 4,
  "nbformat_minor": 0,
  "metadata": {
    "colab": {
      "provenance": []
    },
    "kernelspec": {
      "name": "python3",
      "display_name": "Python 3"
    },
    "language_info": {
      "name": "python"
    },
    "accelerator": "GPU",
    "gpuClass": "standard"
  },
  "cells": [
    {
      "cell_type": "code",
      "execution_count": 12,
      "metadata": {
        "id": "bYfNPNfem2bF",
        "colab": {
          "base_uri": "https://localhost:8080/"
        },
        "outputId": "5381ce25-b790-4ba4-f976-b8cdf7f424ee"
      },
      "outputs": [
        {
          "output_type": "stream",
          "name": "stdout",
          "text": [
            "Drive already mounted at /content/drive; to attempt to forcibly remount, call drive.mount(\"/content/drive\", force_remount=True).\n"
          ]
        }
      ],
      "source": [
        "from google.colab import drive\n",
        "drive.mount('/content/drive')"
      ]
    },
    {
      "cell_type": "code",
      "source": [
        "import numpy as np\n",
        "import pandas as pd\n",
        "import tensorflow as tf\n",
        "from lightgbm import LGBMClassifier\n",
        "import matplotlib.pyplot as plt\n",
        "from keras.layers import Activation, Dense, Dropout, BatchNormalization\n",
        "from keras.models import Sequential\n",
        "from keras import optimizers, callbacks\n",
        "from sklearn.model_selection import train_test_split\n",
        "from sklearn import metrics\n",
        "from sklearn.preprocessing import MinMaxScaler\n",
        "from sklearn.metrics import accuracy_score, log_loss"
      ],
      "metadata": {
        "id": "8pB0Dgb0nez0"
      },
      "execution_count": 14,
      "outputs": []
    },
    {
      "cell_type": "code",
      "source": [
        "scaler = MinMaxScaler()\n",
        "df = df_flg = pd.DataFrame()\n",
        "\n",
        "def parameters():\n",
        "  params = ['open', 'close', 'high', 'low', 'sma5', 'sma7', 'sma10', 'sma20', 'deviation', 'outcome']\n",
        "  requisite = ['open', 'close', 'high', 'low']\n",
        "  past_dates = 5\n",
        "  for i in range(past_dates):\n",
        "    for item in requisite:\n",
        "      params.append(f\"{item}_{i+1}\")\n",
        "  print(params)\n",
        "  return params\n",
        "\n",
        "for year in range(2022, 2023):\n",
        "  dir = '/content/drive/MyDrive/datasets/finance/exchange_rate/histdata/test/AAPL_2023_custom_data.csv'\n",
        "  file_name = f'DAT_MT_USDJPY_1H_{year}.csv'\n",
        "  # path = dir + file_name\n",
        "  path = dir\n",
        "  \n",
        "  df2 = pd.read_csv(path, index_col=0, parse_dates=True, usecols=lambda column: column!='outcome')\n",
        "  data = pd.read_csv(path, index_col=0, parse_dates=True)\n",
        "  data = data[parameters()]\n",
        "  data = data.dropna()\n",
        "  df2 = data.drop('outcome', axis=1)\n",
        "  flg = data[['outcome']]\n",
        "  print(df2, flg)\n",
        "  df = pd.concat([df, df2])\n",
        "  df_flg = pd.concat([df_flg, flg])\n",
        "  \n",
        "scaler.fit(df)\n",
        "df = scaler.transform(df)\n",
        "\n",
        "x_data = np.array(df)\n",
        "y_data = np.array(df_flg)\n",
        "\n",
        "x_train, x_test, y_train, y_test = train_test_split(x_data, y_data, test_size=0.1)\n"
      ],
      "metadata": {
        "id": "CYIyp6Kln-SX",
        "colab": {
          "base_uri": "https://localhost:8080/"
        },
        "outputId": "d55e4cbf-8f99-4438-f1ce-bf565b555d0c"
      },
      "execution_count": 15,
      "outputs": [
        {
          "output_type": "stream",
          "name": "stdout",
          "text": [
            "['open', 'close', 'high', 'low', 'sma5', 'sma7', 'sma10', 'sma20', 'deviation', 'outcome', 'open_1', 'close_1', 'high_1', 'low_1', 'open_2', 'close_2', 'high_2', 'low_2', 'open_3', 'close_3', 'high_3', 'low_3', 'open_4', 'close_4', 'high_4', 'low_4', 'open_5', 'close_5', 'high_5', 'low_5']\n",
            "                           open       close        high         low  \\\n",
            "time                                                                  \n",
            "2021-03-23 08:00:00  121.226942  121.493396  121.690770  121.147992   \n",
            "2021-03-23 09:00:00  121.268193  121.799326  122.073675  121.246679   \n",
            "2021-03-23 10:00:00  121.799326  121.147104  122.065780  120.929105   \n",
            "2021-03-23 11:00:00  121.143058  121.621689  122.134861  120.990093   \n",
            "2021-03-23 12:00:00  121.621689  121.562477  122.608558  121.226942   \n",
            "...                         ...         ...         ...         ...   \n",
            "2023-03-10 16:00:00  148.660000  148.480000  148.770000  147.609600   \n",
            "2023-03-10 17:00:00  148.470000  149.080000  149.160000  148.340000   \n",
            "2023-03-10 18:00:00  149.040000  148.760000  149.040000  148.500000   \n",
            "2023-03-10 19:00:00  148.760000  148.510000  148.810000  148.500000   \n",
            "2023-03-10 20:00:00  148.450000  148.600000  148.600000  148.250000   \n",
            "\n",
            "                           sma5        sma7       sma10       sma20  \\\n",
            "time                                                                  \n",
            "2021-03-23 08:00:00  121.224968  121.304482  121.454908  120.818191   \n",
            "2021-03-23 09:00:00  121.272338  121.349596  121.418394  120.945990   \n",
            "2021-03-23 10:00:00  121.287950  121.295896  121.358107  121.040192   \n",
            "2021-03-23 11:00:00  121.434007  121.304355  121.369949  121.150721   \n",
            "2021-03-23 12:00:00  121.524799  121.374845  121.377844  121.263717   \n",
            "...                         ...         ...         ...         ...   \n",
            "2023-03-10 16:00:00  148.869940  149.226386  149.632470  150.340045   \n",
            "2023-03-10 17:00:00  148.715940  149.127100  149.534470  150.116545   \n",
            "2023-03-10 18:00:00  148.634000  148.884243  149.346470  149.956980   \n",
            "2023-03-10 19:00:00  148.696000  148.692814  149.093470  149.817355   \n",
            "2023-03-10 20:00:00  148.686000  148.611429  148.975970  149.719855   \n",
            "\n",
            "                     deviation      open_1  ...      high_3       low_3  \\\n",
            "time                                        ...                           \n",
            "2021-03-23 08:00:00  59.161821  150.540000  ...  150.570000  150.110000   \n",
            "2021-03-23 09:00:00  68.666062  151.310000  ...  150.750000  150.550000   \n",
            "2021-03-23 10:00:00  48.403632  151.960000  ...  150.700000  150.370000   \n",
            "2021-03-23 11:00:00  63.147470  153.560000  ...  151.410000  150.225000   \n",
            "2021-03-23 12:00:00  61.307940  154.110000  ...  152.120000  151.220000   \n",
            "...                        ...         ...  ...         ...         ...   \n",
            "2023-03-10 16:00:00  38.963984  119.262580  ...  121.078912  119.835457   \n",
            "2023-03-10 17:00:00  45.291105  119.361760  ...  120.190730  118.414366   \n",
            "2023-03-10 18:00:00  41.916640  119.282811  ...  119.351891  118.414366   \n",
            "2023-03-10 19:00:00  39.280340  119.233467  ...  119.411104  119.124912   \n",
            "2023-03-10 20:00:00  40.229408  119.115043  ...  119.588740  119.213730   \n",
            "\n",
            "                         open_4     close_4      high_4       low_4  \\\n",
            "time                                                                  \n",
            "2021-03-23 08:00:00  150.400000  150.400000  150.500000  150.190000   \n",
            "2021-03-23 09:00:00  150.570000  150.400000  150.570000  150.110000   \n",
            "2021-03-23 10:00:00  150.610000  150.562300  150.750000  150.550000   \n",
            "2021-03-23 11:00:00  150.540000  150.610100  150.700000  150.370000   \n",
            "2021-03-23 12:00:00  151.310000  150.550000  151.410000  150.225000   \n",
            "...                         ...         ...         ...         ...   \n",
            "2023-03-10 16:00:00  120.965422  120.713770  121.226942  120.555871   \n",
            "2023-03-10 17:00:00  119.835457  120.970356  121.078912  119.835457   \n",
            "2023-03-10 18:00:00  119.233467  119.830523  120.190730  118.414366   \n",
            "2023-03-10 19:00:00  119.262580  119.223599  119.351891  118.414366   \n",
            "2023-03-10 20:00:00  119.361760  119.302548  119.411104  119.124912   \n",
            "\n",
            "                         open_5     close_5      high_5       low_5  \n",
            "time                                                                 \n",
            "2021-03-23 08:00:00  150.290000  150.640000  150.910000  149.770000  \n",
            "2021-03-23 09:00:00  150.400000  150.400000  150.500000  150.190000  \n",
            "2021-03-23 10:00:00  150.570000  150.400000  150.570000  150.110000  \n",
            "2021-03-23 11:00:00  150.610000  150.562300  150.750000  150.550000  \n",
            "2021-03-23 12:00:00  150.540000  150.610100  150.700000  150.370000  \n",
            "...                         ...         ...         ...         ...  \n",
            "2023-03-10 16:00:00  120.713770  121.800510  122.144730  120.713770  \n",
            "2023-03-10 17:00:00  120.965422  120.713770  121.226942  120.555871  \n",
            "2023-03-10 18:00:00  119.835457  120.970356  121.078912  119.835457  \n",
            "2023-03-10 19:00:00  119.233467  119.830523  120.190730  118.414366  \n",
            "2023-03-10 20:00:00  119.262580  119.223599  119.351891  118.414366  \n",
            "\n",
            "[7587 rows x 29 columns]                      outcome\n",
            "time                        \n",
            "2021-03-23 08:00:00      1.0\n",
            "2021-03-23 09:00:00      0.0\n",
            "2021-03-23 10:00:00      1.0\n",
            "2021-03-23 11:00:00      0.0\n",
            "2021-03-23 12:00:00      0.0\n",
            "...                      ...\n",
            "2023-03-10 16:00:00      1.0\n",
            "2023-03-10 17:00:00      0.0\n",
            "2023-03-10 18:00:00      0.0\n",
            "2023-03-10 19:00:00      1.0\n",
            "2023-03-10 20:00:00      0.0\n",
            "\n",
            "[7587 rows x 1 columns]\n"
          ]
        }
      ]
    },
    {
      "cell_type": "code",
      "source": [
        "\n",
        "# model作成\n",
        "model = LGBMClassifier(num_leaves=31, learning_rate=0.05, n_estimators=20)\n",
        "\n",
        "evals_result = []\n",
        "for i, (X_eval, y_eval) in enumerate([(x_train, y_train), (x_test, y_test)]):\n",
        "    model.fit(X_eval, y_eval, eval_set=[(X_eval, y_eval)], verbose=False)\n",
        "    y_pred = model.predict_proba(X_eval)\n",
        "    loss = log_loss(y_eval, y_pred)\n",
        "    acc = accuracy_score(y_eval, y_pred.argmax(axis=1))\n",
        "    evals_result.append({'iter': i, 'log_loss': loss, 'accuracy': acc})\n"
      ],
      "metadata": {
        "colab": {
          "base_uri": "https://localhost:8080/"
        },
        "id": "GqHQicMJnkXs",
        "outputId": "98995580-e0a2-46a5-b51d-3f0c7c298bc5"
      },
      "execution_count": 16,
      "outputs": [
        {
          "output_type": "stream",
          "name": "stderr",
          "text": [
            "/usr/local/lib/python3.9/dist-packages/sklearn/preprocessing/_label.py:99: DataConversionWarning: A column-vector y was passed when a 1d array was expected. Please change the shape of y to (n_samples, ), for example using ravel().\n",
            "  y = column_or_1d(y, warn=True)\n",
            "/usr/local/lib/python3.9/dist-packages/sklearn/preprocessing/_label.py:134: DataConversionWarning: A column-vector y was passed when a 1d array was expected. Please change the shape of y to (n_samples, ), for example using ravel().\n",
            "  y = column_or_1d(y, dtype=self.classes_.dtype, warn=True)\n",
            "/usr/local/lib/python3.9/dist-packages/lightgbm/sklearn.py:736: UserWarning: 'verbose' argument is deprecated and will be removed in a future release of LightGBM. Pass 'log_evaluation()' callback via 'callbacks' argument instead.\n",
            "  _log_warning(\"'verbose' argument is deprecated and will be removed in a future release of LightGBM. \"\n",
            "/usr/local/lib/python3.9/dist-packages/sklearn/preprocessing/_label.py:99: DataConversionWarning: A column-vector y was passed when a 1d array was expected. Please change the shape of y to (n_samples, ), for example using ravel().\n",
            "  y = column_or_1d(y, warn=True)\n",
            "/usr/local/lib/python3.9/dist-packages/sklearn/preprocessing/_label.py:134: DataConversionWarning: A column-vector y was passed when a 1d array was expected. Please change the shape of y to (n_samples, ), for example using ravel().\n",
            "  y = column_or_1d(y, dtype=self.classes_.dtype, warn=True)\n",
            "/usr/local/lib/python3.9/dist-packages/lightgbm/sklearn.py:736: UserWarning: 'verbose' argument is deprecated and will be removed in a future release of LightGBM. Pass 'log_evaluation()' callback via 'callbacks' argument instead.\n",
            "  _log_warning(\"'verbose' argument is deprecated and will be removed in a future release of LightGBM. \"\n"
          ]
        }
      ]
    },
    {
      "cell_type": "code",
      "source": [
        "for metric in ['log_loss', 'accuracy']:\n",
        "    plt.plot([res['iter'] for res in evals_result], [res[metric] for res in evals_result], label=metric)\n",
        "\n",
        "plt.xlabel('Number of iterations')\n",
        "plt.legend()\n",
        "plt.show()"
      ],
      "metadata": {
        "id": "HgMXwDxeuAvq",
        "colab": {
          "base_uri": "https://localhost:8080/",
          "height": 449
        },
        "outputId": "386b4b13-29e7-4c76-a123-2dc719566868"
      },
      "execution_count": 17,
      "outputs": [
        {
          "output_type": "display_data",
          "data": {
            "text/plain": [
              "<Figure size 640x480 with 1 Axes>"
            ],
            "image/png": "[encoded data removed]"
          },
          "metadata": {}
        }
      ]
    },
    {
      "cell_type": "code",
      "source": [
        "y_pred = model.predict(x_test)\n",
        "\n",
        "from sklearn.metrics import accuracy_score\n",
        "\n",
        "accuracy = accuracy_score(y_test, y_pred)\n",
        "print('Accuracy:', accuracy)"
      ],
      "metadata": {
        "colab": {
          "base_uri": "https://localhost:8080/"
        },
        "id": "g1hHGGiSIc6u",
        "outputId": "ba80ec1c-26ae-4e48-a4cd-7f2ac1873f3e"
      },
      "execution_count": 18,
      "outputs": [
        {
          "output_type": "stream",
          "name": "stdout",
          "text": [
            "Accuracy: 0.7997364953886693\n"
          ]
        }
      ]
    }
  ]
}